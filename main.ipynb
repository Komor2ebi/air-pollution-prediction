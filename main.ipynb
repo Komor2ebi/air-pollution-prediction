{
 "cells": [
  {
   "cell_type": "markdown",
   "metadata": {},
   "source": [
    "# Air Polution Challenge\n",
    "### Iris Winkler, Carlos Duque, Johannes Gooth\n",
    "\n",
    "neuefische can-ds-24-2"
   ]
  },
  {
   "cell_type": "markdown",
   "metadata": {},
   "source": [
    "The Air Pollution Challenge on Zindi is focused on predicting air quality in various cities around the world using satellite data. Participants in this challenge are tasked with using machine learning techniques to estimate pollution levels, specifically PM2.5 concentrations. The challenge leverages data that spans across different geographical locations and conditions, providing a platform for developers to test and enhance their predictive modeling skills in real-world scenarios.\n",
    "\n",
    "The competition is designed to address the growing issue of urban air pollution, providing insights and solutions that can help in managing air quality in densely populated cities. The use of satellite data in this context allows for a wide-reaching analysis that can cover areas where ground-based sensors might not be available, thus filling crucial data gaps in global environmental health studies.\n",
    "\n",
    "For more detailed discussions and resources related to this challenge, including data sets and participant discussions, you can visit the official challenge page on Zindi's website: Urban Air Pollution Challenge on Zindi."
   ]
  },
  {
   "cell_type": "markdown",
   "metadata": {},
   "source": [
    "## Set-Up the Working Environment"
   ]
  },
  {
   "cell_type": "code",
   "execution_count": 1,
   "metadata": {},
   "outputs": [],
   "source": [
    "# Aviod restarting Kernal \n",
    "%load_ext autoreload\n",
    "%autoreload 2\n",
    "\n",
    "# Import of relevant packages\n",
    "import numpy as np\n",
    "import pandas as pd\n",
    "import warnings\n",
    "import matplotlib.pyplot as plt\n",
    "import seaborn as sns\n",
    "import missingno as msno\n",
    "\n",
    "from sklearn.pipeline import Pipeline\n",
    "from sklearn.compose import ColumnTransformer\n",
    "from sklearn.model_selection import train_test_split\n",
    "from sklearn.model_selection import GridSearchCV\n",
    "\n",
    "# Set random seed \n",
    "RSEED = 7\n",
    "warnings.filterwarnings(\"ignore\")"
   ]
  },
  {
   "cell_type": "markdown",
   "metadata": {},
   "source": [
    "## Import the Data"
   ]
  },
  {
   "cell_type": "code",
   "execution_count": 2,
   "metadata": {},
   "outputs": [],
   "source": [
    "# Import the data into a Pandas DataFrame\n",
    "df_train = pd.read_csv('data/Train.csv')\n",
    "df_test = pd.read_csv('data/Test.csv')"
   ]
  },
  {
   "cell_type": "markdown",
   "metadata": {},
   "source": [
    "## Quick Look at the Data"
   ]
  },
  {
   "cell_type": "code",
   "execution_count": null,
   "metadata": {},
   "outputs": [],
   "source": [
    "# Display first 5 rows of the train DataFrame\n",
    "df_train.head()"
   ]
  },
  {
   "cell_type": "code",
   "execution_count": null,
   "metadata": {},
   "outputs": [],
   "source": [
    "# Display first 5 rows of the test DataFrame\n",
    "df_test.head()"
   ]
  },
  {
   "cell_type": "markdown",
   "metadata": {},
   "source": [
    "## Train-Test Split\n",
    "The test_df holds the final evaluation dataset for the Air Pollution challenge. To ensure that we do not use this data until our final model is ready, we will also divide the train_df into training and testing subsets. This will allow us to assess our models effectively during the optimization process:"
   ]
  },
  {
   "cell_type": "code",
   "execution_count": 6,
   "metadata": {},
   "outputs": [
    {
     "name": "stdout",
     "output_type": "stream",
     "text": [
      "Training set features shape: (21389, 81)\n",
      "Training set target shape: (21389,)\n",
      "Testing set features shape: (9168, 81)\n",
      "Testing set target shape: (9168,)\n"
     ]
    }
   ],
   "source": [
    "# Define your features and target variable\n",
    "X = df_train.drop('target', axis=1)  # Features (all columns except 'not.fully.paid')\n",
    "y = df_train['target']               # Target variable\n",
    "\n",
    "# Split the data into training and testing sets\n",
    "X_train, X_test, y_train, y_test = train_test_split(X, y, test_size=0.3, random_state=RSEED)\n",
    "\n",
    "# Checking the dimensions of the splits\n",
    "print(\"Training set features shape:\", X_train.shape)\n",
    "print(\"Training set target shape:\", y_train.shape)\n",
    "print(\"Testing set features shape:\", X_test.shape)\n",
    "print(\"Testing set target shape:\", y_test.shape)"
   ]
  },
  {
   "cell_type": "markdown",
   "metadata": {},
   "source": [
    "## Explore the Data"
   ]
  },
  {
   "cell_type": "markdown",
   "metadata": {},
   "source": [
    "### Shape of the DataFrames"
   ]
  },
  {
   "cell_type": "code",
   "execution_count": null,
   "metadata": {},
   "outputs": [],
   "source": [
    "# Shape of the train DataFrame\n",
    "X_train.shape"
   ]
  },
  {
   "cell_type": "markdown",
   "metadata": {},
   "source": [
    "The train DataFrame has 81 columns and 30557 rows."
   ]
  },
  {
   "cell_type": "code",
   "execution_count": null,
   "metadata": {},
   "outputs": [],
   "source": [
    "# Shape of the test DataFrame\n",
    "df_test.shape"
   ]
  },
  {
   "cell_type": "markdown",
   "metadata": {},
   "source": [
    "The test DataFrame has 77 columns and 16136 rows. \n",
    "\n",
    "Thus, the train and test DataFrames have differnt columns. We will analyze the differences between the columns of two the DataFrames by comparing their column names:"
   ]
  },
  {
   "cell_type": "code",
   "execution_count": null,
   "metadata": {},
   "outputs": [],
   "source": [
    "# Get sets of column names for both DataFrames\n",
    "columns_X_train = set(X_train.columns)\n",
    "columns_df_test = set(df_test.columns)\n",
    "    \n",
    "# Find columns that are unique to each DataFrame\n",
    "unique_to_df_train = list(columns_X_train - columns_df_test)\n",
    "\n",
    "print(unique_to_df_train)"
   ]
  },
  {
   "cell_type": "markdown",
   "metadata": {},
   "source": [
    "The SampleSubmission file clearly states that only the 'target' column is the target value of our model (aka the amount of Pm2.5) and should be predicted.  Therefore, 'target_variance', 'target_count', 'target_max', 'target_min' could only be considered as additional features. However, training a machine learning model on features that do not appear in the test data can lead to several issues and is generally not recommended. Here are some key points to consider:\n",
    "1. Generalization Ability: The primary goal of a machine learning model is to generalize well from the training data to unseen data. If the model is trained on features that are not available in the test data, it might learn patterns that are not applicable when making predictions in real-world scenarios or during evaluation, leading to poor performance.\n",
    "2. Overfitting: Training on features not present in the test set can cause the model to overfit to the training data. Overfitting occurs when a model learns noise or irrelevant details in the training data instead of capturing the underlying patterns applicable more broadly. This typically results in high accuracy on training data but poor accuracy on unseen (test) data.\n",
    "3. Feature Relevance: Features used in training should ideally be representative of the data the model will ultimately work with, including the test set and any real-world application data. Features that do not appear in the test set might not be relevant or available when the model is deployed, making them practically useless and potentially misleading during the training phase.\n",
    "4. Model Complexity: Including irrelevant or unavailable features increases the complexity of the model unnecessarily. This not only affects the model's efficiency but can also complicate the model maintenance and interpretability.\n",
    "5. Resource Allocation: Training on irrelevant features consumes computational resources and time, which could be better spent on feature engineering, model tuning, or training with relevant features that improve the model's performance on the test set.\n",
    "\n",
    "Therefore, we decided to drop the other unique columns."
   ]
  },
  {
   "cell_type": "markdown",
   "metadata": {},
   "source": [
    "### Columns in the DataFrames"
   ]
  },
  {
   "cell_type": "markdown",
   "metadata": {},
   "source": [
    "Next, we will check the column names of our DataFrames:"
   ]
  },
  {
   "cell_type": "code",
   "execution_count": null,
   "metadata": {},
   "outputs": [],
   "source": [
    "# Columns in the dataframe\n",
    "X_train.columns"
   ]
  },
  {
   "cell_type": "markdown",
   "metadata": {},
   "source": [
    "Not all column names are lowercase and use underscores instead of spaces. To adhere to Python naming conventions, we'll convert all column names in the train and test DataFrames to lowercase and replace spaces with underscores.\n",
    "\n",
    "More information about the column names can be found on https://developers.google.com/earth-engine/datasets/catalog/sentinel-5p.\n",
    "\n",
    "Next, we will identify the different datatypes present in our datasets:"
   ]
  },
  {
   "cell_type": "markdown",
   "metadata": {},
   "source": [
    "### Datatypes"
   ]
  },
  {
   "cell_type": "code",
   "execution_count": null,
   "metadata": {},
   "outputs": [],
   "source": [
    "# Checking for the data-types\n",
    "X_train.info()"
   ]
  },
  {
   "cell_type": "markdown",
   "metadata": {},
   "source": [
    " | Data-Type | Result |\n",
    "|:-|:-|\n",
    "| *object* | There are three features (columns) with an object data-type in our dataset: 'Place ID X Date', 'Place ID' and 'Date'. This means, there are strings or mixed data-types in this column. <br> - Since 'Date' means the date when the measurement was performed, this needs to be changed into a datetime format. |\n",
    "| *float65* | Floats are the data-types of the remaining features (columns). We consider rounding at a later stage.\n",
    "\n",
    "Next, we will check for missing values in the dataset."
   ]
  },
  {
   "cell_type": "markdown",
   "metadata": {},
   "source": [
    "### Missing Values"
   ]
  },
  {
   "cell_type": "code",
   "execution_count": null,
   "metadata": {},
   "outputs": [],
   "source": [
    "# Checking for missing values ('NaN'/'None')\n",
    "X_train.isnull().sum()"
   ]
  },
  {
   "cell_type": "code",
   "execution_count": null,
   "metadata": {},
   "outputs": [],
   "source": [
    "# plotting percentage of missing values per column\n",
    "msno.bar(X_train)"
   ]
  },
  {
   "cell_type": "code",
   "execution_count": null,
   "metadata": {},
   "outputs": [],
   "source": [
    "# plotting the matrix of missing values\n",
    "msno.matrix(X_train)"
   ]
  },
  {
   "cell_type": "markdown",
   "metadata": {},
   "source": [
    "There are few instances where missing values co-occur, and there appears to be no discernible pattern in the distribution of missing data. Consequently, it seems that the missing data occurs randomly.\n",
    "\n",
    "We deliberated on whether to retain or discard columns containing missing values through a thorough examination of the scientific literature:"
   ]
  },
  {
   "cell_type": "markdown",
   "metadata": {},
   "source": [
    "### Dicussion of feature relevance based on scientific literature review\n",
    "\n",
    "1. ***Methane (CH4) itself*** is not directly related to PM2.5 concentrations, as it does not directly contribute to particulate matter levels. \n",
    "\n",
    "    -> drop columns.\n",
    "\n",
    "2. ***Sulfur dioxide (SO2)*** is closely related to PM2.5. SO2 is a significant precursor to sulfate aerosols, which are a major component of fine particulate matter (PM2.5) in the atmosphere. Here's how the relationship works:\n",
    "\n",
    "    Chemical Transformations: When SO2 is emitted into the atmosphere, it can undergo various chemical reactions, particularly with hydroxyl radicals. This transformation leads to the formation of sulfuric acid (H2SO4), which can further react or nucleate to form sulfate particles.\n",
    "    Secondary Particulate Formation: These sulfate particles contribute to secondary particulate matter, significantly influencing the concentration of PM2.5. This process is especially relevant in urban areas and regions with high fossil fuel combustion rates, where SO2 emissions are substantial.\n",
    "    Environmental and Health Impact: The sulfate component of PM2.5 is known for its ability to degrade air quality and cause health problems, including respiratory and cardiovascular issues.\n",
    "    Regulation and Control: Due to its role in forming PM2.5, controlling SO2 emissions is a critical strategy for reducing overall particulate matter levels and improving air quality.\n",
    "    Understanding the link between SO2 and PM2.5 is crucial for environmental policy and implementing effective air quality management strategies​ (MDPI)​.\n",
    "\n",
    "    -> keep columns\n",
    "\n",
    "3. ***Aerosols*** are closely related to PM2.5. In the context of air pollution, \"aerosol\" refers to the suspension of fine solid particles or liquid droplets in air or another gas. These can include a wide range of particles, such as dust, pollen, soot, smoke, and liquid droplets, which are small enough to be suspended in the atmosphere.\n",
    "\n",
    "    PM2.5 specifically refers to particulate matter that has a diameter of less than 2.5 micrometers. These fine particles are a subset of aerosols and are significant from both environmental and health perspectives because they can penetrate deep into the lungs and even enter the bloodstream, causing various health issues.\n",
    "\n",
    "    Aerosols can be generated from both natural sources, such as volcanic eruptions and forest fires, and human-made sources, such as vehicle emissions and industrial processes. The study and management of aerosols, particularly PM2.5, are crucial for air quality monitoring and public health protection.\n",
    "\n",
    "    -> keep columns\n",
    "\n",
    "4. ***Cloud characteristics*** such as cloud fraction, height, pressure at the base and top, optical depth, and surface albedo can influence PM2.5 levels, although often indirectly. Here’s how these factors might play a role:\n",
    "\n",
    "    1. **Cloud Fraction and Optical Depth**: These determine the amount of sunlight that reaches the Earth's surface, which can affect photochemical reactions in the atmosphere. These reactions are crucial for the formation of secondary pollutants that contribute to PM2.5. For instance, lower sunlight due to high cloud cover can reduce the rate of photochemical smog formation, potentially lowering PM2.5 levels.\n",
    "\n",
    "    2. **Cloud Height and Pressure**: The height and pressure of clouds can influence atmospheric circulation and weather patterns, which in turn affect air pollution dispersion. Higher clouds and different pressure levels can lead to changes in wind patterns, possibly dispersing or concentrating pollutants like PM2.5.\n",
    "\n",
    "    3. **Surface Albedo**: This refers to the Earth's surface ability to reflect sunlight. Surfaces with high albedo (like those covered with snow or light-colored materials) reflect more solar radiation, which can reduce ground-level temperatures and affect thermal circulations. These changes can impact how pollutants are mixed and dispersed in the lower atmosphere.\n",
    "\n",
    "    4. **Clouds and Precipitation**: Clouds are also related to precipitation processes. Precipitation can remove pollutants from the atmosphere, a process known as wet deposition. When particulate matter like PM2.5 is washed out of the atmosphere by rain or snow, it leads to temporary improvements in air quality.\n",
    "\n",
    "    In summary, while clouds don't directly emit or absorb PM2.5, their presence and characteristics can significantly alter meteorological conditions, thereby influencing the levels and distribution of particulate matter indirectly through changes in sunlight exposure, weather patterns, and precipitation.\n",
    "\n",
    "    -> keep columns\n",
    "\n",
    "5. ***Formaldehyde (HCHO)*** is related to PM2.5 primarily through secondary formation processes in the atmosphere. Formaldehyde is a volatile organic compound (VOC) that can act as a precursor to secondary organic aerosols (SOAs), which are a component of PM2.5. Here’s how this relationship works:\n",
    "\n",
    "    1. **Chemical Reactions**: Formaldehyde in the atmosphere can undergo photochemical reactions driven by sunlight. These reactions can produce radicals and other compounds that further react to form secondary organic aerosols.\n",
    "\n",
    "    2. **Contribution to PM2.5**: The SOAs formed from formaldehyde and other VOCs contribute to the overall mass of PM2.5 in the atmosphere. These aerosols can be significant, especially in urban and industrial areas with high levels of VOC emissions.\n",
    "\n",
    "    3. **Air Quality Impact**: Because formaldehyde is involved in the formation of particulate matter, controlling VOC emissions (including formaldehyde) is important for managing PM2.5 levels and improving air quality.\n",
    "\n",
    "    The link between HCHO and PM2.5 underscores the complexity of air pollution chemistry and the importance of monitoring a wide range of pollutants to effectively manage and mitigate air quality issues.\n",
    "\n",
    "    -> keep columns\n",
    "\n",
    "6. ***Carbon monoxide (CO)*** is not a direct component of PM2.5, but it is often correlated with PM2.5 concentrations in the atmosphere, primarily due to shared sources. Here’s how CO is related to PM2.5:\n",
    "\n",
    "    1. **Common Sources**: Both CO and PM2.5 are often emitted from the same sources, such as motor vehicles, biomass burning, and industrial processes. This commonality means that areas with high CO levels often also have high PM2.5 levels due to simultaneous emissions of various pollutants.\n",
    "\n",
    "    2. **Indicator of Combustion Efficiency**: CO is a product of incomplete combustion. High levels of CO can indicate poor combustion efficiency, which is also likely to produce higher amounts of particulate matter, including PM2.5. For example, inefficient fuel burning in engines or heaters can release both CO and a variety of particulate pollutants.\n",
    "\n",
    "    3. **Atmospheric Chemistry**: While CO does not directly form PM2.5, it participates in atmospheric chemical reactions that can influence the levels of other pollutants that do form PM2.5. For instance, CO can react in the atmosphere to form secondary pollutants that contribute to the overall particulate load.\n",
    "\n",
    "    4. **Air Quality Management**: Because of the correlation between the sources of CO and PM2.5, measures to reduce CO emissions (such as improving fuel combustion efficiency or upgrading vehicle emission standards) can also lead to reductions in PM2.5 concentrations.\n",
    "\n",
    "    Thus, while CO is not a direct precursor or component of PM2.5, its presence is associated with conditions that can lead to increased levels of particulate matter. Monitoring CO levels can help in assessing combustion-related pollution and formulating strategies to control overall air pollution, including PM2.5.\n",
    "\n",
    "    -> keep columns\n",
    "\n",
    "7. ***Ozone (O3)*** is not directly a component of PM2.5, but it is related to particulate matter formation through atmospheric chemistry interactions. Here’s how ozone is connected to PM2.5:\n",
    "\n",
    "    1. **Secondary Organic Aerosols (SOAs)**: Ozone plays a crucial role in the formation of secondary organic aerosols. Ozone can react with volatile organic compounds (VOCs) emitted from sources such as vehicles, industrial processes, and vegetation. These reactions often occur in the presence of sunlight and lead to the formation of new particulate matter, contributing to PM2.5 levels.\n",
    "\n",
    "    2. **Photochemical Smog**: Ozone is a major component of photochemical smog, which includes a mixture of air pollutants including particulate matter. The same conditions that favor the formation of ozone (such as sunny, warm days) also promote the formation of PM2.5 from precursor gases like VOCs and nitrogen oxides (NOx).\n",
    "\n",
    "    3. **Oxidizing Capacity**: Ozone has strong oxidizing properties, which can transform primary emissions into more reactive species that can then nucleate or condense to form particulate matter. This process can transform less harmful emissions into particles small enough to be classified as PM2.5.\n",
    "\n",
    "    4. **Indicator of Air Quality**: Elevated levels of ozone and PM2.5 often occur together under certain meteorological conditions, particularly in urban environments. Thus, high ozone days can often also be high PM2.5 days, especially during periods of stagnant air that prevent the dispersion of pollutants.\n",
    "\n",
    "    In summary, while ozone itself does not make up PM2.5, it influences the atmospheric processes that lead to the formation of PM2.5. Managing ozone levels, especially in urban areas, is therefore important not only for controlling ozone itself but also for managing levels of fine particulate matter.\n",
    "\n",
    "    -> keep columns\n",
    "\n",
    "8. ***Nitrogen dioxide (NO2)*** is related to PM2.5, primarily through its role in the formation of secondary particulate matter. Here’s how NO2 contributes to PM2.5 levels:\n",
    "\n",
    "    1. **Formation of Nitrate Aerosols**: NO2 reacts with atmospheric compounds to form nitrate aerosols, which are a significant component of PM2.5. This reaction typically occurs with ammonia (NH3) to produce particulate nitrates, which increase the concentration of fine particulate matter in the atmosphere.\n",
    "\n",
    "    2. **Photochemical Reactions**: NO2 plays a crucial role in photochemical reactions that produce ozone and other photochemical oxidants. These oxidants can further react with volatile organic compounds (VOCs) and other precursors to form secondary organic aerosols (SOAs), contributing to PM2.5 levels.\n",
    "\n",
    "    3. **Urban Air Pollution**: In urban environments, where NO2 emissions are high due to traffic and industrial activities, the contribution of NO2 to PM2.5 formation is particularly significant. The density of emission sources accelerates the formation of both nitrate aerosols and SOAs.\n",
    "\n",
    "    4. **Indicator of Combustion Sources**: Similar to carbon monoxide (CO), NO2 is often emitted from combustion sources such as vehicles and power plants. High levels of NO2 can indicate significant combustion-related pollution, which often corresponds with increased PM2.5 from various combustion byproducts.\n",
    "\n",
    "    Managing NO2 emissions is important for controlling PM2.5 levels, especially in urban areas where exposure to NO2 and fine particulates can pose significant health risks. Reducing NO2 emissions from vehicles and industrial sources is crucial for improving air quality and reducing particulate matter pollution.\n",
    "\n",
    "    -> keep columns\n",
    "\n",
    "9. ***Wind*** is significantly related to PM2.5 levels, primarily through its role in the dispersion and transport of these fine particles. Here’s how wind impacts PM2.5:\n",
    "\n",
    "    1. **Dispersion of Particles**: Wind helps to disperse air pollutants, including PM2.5. Higher wind speeds can dilute concentrations of particulate matter by spreading them over a wider area, potentially reducing the pollutant levels in a specific locale while distributing these particles over a larger region.\n",
    "\n",
    "    2. **Transport of Pollutants**: Wind can carry PM2.5 from their sources to distant locations. This means that areas downwind of major pollution sources (like industrial areas, urban centers, or areas with heavy traffic) can experience elevated PM2.5 levels due to wind transport.\n",
    "\n",
    "    3. **Influence on Air Quality**: Wind direction and speed are critical factors in determining daily air quality. For example, winds blowing from industrial zones towards residential areas can lead to higher exposure to PM2.5 for populations in those residential areas.\n",
    "\n",
    "    4. **Interaction with Weather Patterns**: Wind is also influenced by broader weather patterns and geographical features. For instance, mountainous regions can experience \"channeling\" effects that may concentrate or disperse air pollutants differently, affecting PM2.5 concentrations.\n",
    "\n",
    "    5. **Impact on Emission Sources**: In situations where wind influences the operation of pollution sources (such as in open mining, construction sites, or agriculture), it can increase the generation of particulate matter by stirring up dust and other particles.\n",
    "\n",
    "    In air quality modeling and environmental monitoring, understanding the patterns of wind in a region is crucial for predicting PM2.5 levels and managing pollution control strategies effectively. Wind data is often used alongside other meteorological factors to develop accurate forecasts and public health advisories regarding air quality.\n",
    "\n",
    "    -> keep columns\n",
    "\n",
    "10. ***Temperature*** is related to PM2.5 levels through several mechanisms:\n",
    "\n",
    "    1. **Chemical Reaction Rates**: Higher temperatures can increase the rate of chemical reactions in the atmosphere that lead to the formation of secondary particulate matter. For example, higher temperatures accelerate the photochemical reactions involving volatile organic compounds (VOCs) and nitrogen oxides (NOx), which form secondary organic aerosols and nitrate aerosols, respectively, contributing to PM2.5 levels.\n",
    "\n",
    "    2. **Atmospheric Stability**: Temperature influences the stability of the atmosphere. Warmer temperatures tend to increase atmospheric instability, which can enhance the vertical mixing of pollutants and disperse air pollutants, including PM2.5. Conversely, lower temperatures, especially during night or winter, can lead to temperature inversions that trap pollutants close to the ground, increasing PM2.5 concentrations.\n",
    "\n",
    "    3. **Emission Sources**: Temperature can affect emissions from various sources. For instance, residential heating demand increases during colder temperatures, potentially increasing emissions of PM2.5 from combustion processes.\n",
    "\n",
    "    4. **Volatility of Organic Compounds**: Temperature changes affect the volatility of organic compounds. Higher temperatures can increase the volatility, enhancing the formation of secondary organic aerosols as more vapors are available to participate in atmospheric reactions.\n",
    "\n",
    "    These relationships highlight the complex interplay between meteorological conditions and air quality, making temperature a critical factor in modeling and managing PM2.5 pollution.\n",
    "\n",
    "    -> keep columns\n",
    "\n",
    "11. ***Yumidity*** is related to PM2.5 concentrations in the atmosphere through various mechanisms:\n",
    "\n",
    "    1. **Particle Growth**: High humidity levels can lead to the growth of particulate matter. Water vapor condenses on particles, causing them to grow in size and mass. This can increase the PM2.5 concentration as smaller particles grow to become part of the PM2.5 classification.\n",
    "\n",
    "    2. **Chemical Reactions**: Humidity can also influence the chemical reactions that form secondary particles, such as sulfates and nitrates. For example, sulfur dioxide (SO2) and nitrogen oxides (NOx) can react with water vapor to form these secondary particulate matters, which are components of PM2.5.\n",
    "\n",
    "    3. **Hygroscopic Properties**: Many particles in the PM2.5 category are hygroscopic, meaning they can absorb moisture from the air. This absorption can change the chemical composition and physical properties of the particles, potentially making them more hazardous or altering their ability to be filtered by the respiratory system.\n",
    "\n",
    "    4. **Agglomeration**: Higher humidity can enhance the agglomeration of particles, where smaller particles stick together to form larger particles. While this might reduce the number of particles classified as PM2.5 by mass, it can also make them more likely to deposit in the respiratory tract.\n",
    "\n",
    "    Understanding the role of humidity in PM2.5 dynamics is crucial for accurate air quality forecasting and health risk assessment, especially in regions with high humidity levels.\n",
    "\n",
    "    -> keep columns\n",
    "\n",
    "12. ***The angles*** in the features refer to geographical and/or directional measurements related to the data, such as the angles of wind direction, satellite data acquisition angles, or other related metrics. Angles can be important in air quality modeling if they relate to how pollutants disperse or how satellite observations are made relative to the Earth's surface.\n",
    "\n",
    "    For example, wind direction, which could be represented by angles, is crucial for understanding how air pollutants travel and disperse across different areas. Similarly, satellite observation angles might affect the accuracy and relevance of the measurements for specific locations, especially in complex urban geometries where building shadows or reflections might influence sensor readings.\n",
    "\n",
    "    -> keep columns\n",
    "\n",
    "To prevent any alteration of the dataset through the creation of synthetic data, we have decided to retain the NaN values in the columns we preserve.\n",
    "\n",
    "Next, we will examine the dataset for any zero values.\n",
    "\n"
   ]
  },
  {
   "cell_type": "markdown",
   "metadata": {},
   "source": [
    "### 0-values\n",
    "\n",
    "For features with 'angles' in their names, along with 'cloud_fraction' and 'weekday', zero values are permissible. However, in all other features, the presence of zero values may indicate an error.\n",
    "\n",
    "To focus on columns where zero values might signify an error, we initially exclude columns that contain the word 'angle' in their headers:\n"
   ]
  },
  {
   "cell_type": "code",
   "execution_count": null,
   "metadata": {},
   "outputs": [],
   "source": [
    "# Create a new DataFrame without columns containing the word 'angle' and 'cloud_fraction'\n",
    "df_filtered_noangle_nocloud = X_train[[col for col in X_train.columns if 'angle' not in col and 'cloud_fraction' not in col]]\n",
    "\n",
    "print(df_filtered_noangle_nocloud)\n"
   ]
  },
  {
   "cell_type": "code",
   "execution_count": null,
   "metadata": {},
   "outputs": [],
   "source": [
    "# Check for zeros in all columns and count them\n",
    "zero_counts = (df_filtered_noangle_nocloud == 0).sum()\n",
    "\n",
    "# Filter and print entries where the sum is not zero\n",
    "non_zero_counts = zero_counts[zero_counts != 0]\n",
    "print(\"Number of zeros in each column:\")\n",
    "print(non_zero_counts)"
   ]
  },
  {
   "cell_type": "markdown",
   "metadata": {},
   "source": [
    "The 'target_variance' column will be dropped during data preprocessing later on. Zero values in all other columns are likely indicative of errors.  \n",
    "\n",
    "The occurrence of 0-values across all data for a specific air pollutant suggests that they originate from the same sensor, which was likely malfunctioning. To preserve the integrity of the dataset, we aim to avoid generating synthetic data. Nonetheless, to assess the impact of removing these potentially erroneous entries, we will now investigate how many columns contain 0-values that are likely errors:"
   ]
  },
  {
   "cell_type": "code",
   "execution_count": null,
   "metadata": {},
   "outputs": [],
   "source": [
    "# Calculate the number of zeros in each row \n",
    "df_filtered_noangle_nocloud['zero_count'] = (df_filtered_noangle_nocloud == 0).sum(axis=1) \n",
    "\n",
    "# Count the rows with 6 or more zeros \n",
    "number_of_rows_with_error_zero_values = (df_filtered_noangle_nocloud['zero_count'] >= 5).sum()\n",
    "\n",
    "print(f\"There are {number_of_rows_with_error_zero_values} rows with 0-values that likely indicate errors.\")"
   ]
  },
  {
   "cell_type": "markdown",
   "metadata": {},
   "source": [
    "1840 rows constitute less than 10% of our observations. Consequently, we plan to exclude them later.\n",
    "\n",
    "Next, we'll verify our analysis by examining plots of some of the data:"
   ]
  },
  {
   "cell_type": "code",
   "execution_count": null,
   "metadata": {},
   "outputs": [],
   "source": [
    "# Identify columns with missing values\n",
    "columns_with_zeros = df_filtered_noangle_nocloud.columns[df_filtered_noangle_nocloud.isnull().any()]\n",
    "\n",
    "# Filter the DataFrame to include only columns with missing values\n",
    "data_missing = df_filtered_noangle_nocloud[columns_with_zeros]\n",
    "\n",
    "# Assuming your DataFrame is named data_missing\n",
    "num_columns = len(data_missing.columns)  # Get the number of columns in the DataFrame\n",
    "cols_per_row = 3  # Number of plots per row (you can adjust this number as needed)\n",
    "\n",
    "# Calculate the number of rows needed\n",
    "num_rows = (num_columns + cols_per_row - 1) // cols_per_row  # Rounds up if not a perfect multiple\n",
    "\n",
    "# Create a figure with the calculated number of subplots\n",
    "fig, ax = plt.subplots(num_rows, cols_per_row, figsize=(16, 4 * num_rows))  # Adjusted height per row\n",
    "\n",
    "count = 0\n",
    "for item in data_missing.columns:\n",
    "    sns.boxplot(data_missing[item], ax=ax[count // cols_per_row][count % cols_per_row], color='#33658A').set(title=item, xlabel='')\n",
    "    count += 1\n",
    "\n",
    "# Hide empty subplots if they exist\n",
    "if count < num_rows * cols_per_row:\n",
    "    for i in range(count, num_rows * cols_per_row):\n",
    "        ax.flat[i].set_visible(False)\n",
    "\n",
    "fig.tight_layout(pad=3)\n",
    "plt.show()"
   ]
  },
  {
   "cell_type": "markdown",
   "metadata": {},
   "source": [
    "Next, we will look at the descriptive statistics of our data:"
   ]
  },
  {
   "cell_type": "markdown",
   "metadata": {},
   "source": [
    "### Descriptive Statistics"
   ]
  },
  {
   "cell_type": "code",
   "execution_count": null,
   "metadata": {},
   "outputs": [],
   "source": [
    "# Examining the descriptive statistics of the dataset\n",
    "X_test.describe()"
   ]
  },
  {
   "cell_type": "markdown",
   "metadata": {},
   "source": [
    "Now, we take a look on the correlation matrix of our data:"
   ]
  },
  {
   "cell_type": "markdown",
   "metadata": {},
   "source": [
    "### Correlation Matrix"
   ]
  },
  {
   "cell_type": "code",
   "execution_count": null,
   "metadata": {},
   "outputs": [],
   "source": [
    "#remove columns with non-numerical values\n",
    "df_train_num = X_train.drop(['Date', 'Place_ID', 'Place_ID X Date'], axis=1).join(y)\n",
    "\n",
    "# correlation plot\n",
    "ax = sns.heatmap(df_train_num.corr(), annot=False)"
   ]
  },
  {
   "cell_type": "markdown",
   "metadata": {},
   "source": [
    "The density of the data points makes it difficult to derive useful information. As a result, we will refine the correlation matrix to highlight only high correlation values. Given that the satellite angles are inherently correlated, we will remove them from the matrix before replottng the heatmap:"
   ]
  },
  {
   "cell_type": "code",
   "execution_count": null,
   "metadata": {},
   "outputs": [],
   "source": [
    "# Create a new DataFrame without columns containing the word 'angle'\n",
    "df_filtered_noangle = df_train_num[[col for col in df_train_num.columns if 'angle' not in col]]\n",
    "\n",
    "print(df_filtered_noangle)"
   ]
  },
  {
   "cell_type": "code",
   "execution_count": null,
   "metadata": {},
   "outputs": [],
   "source": [
    "ax = sns.heatmap(df_filtered_noangle.corr(), annot=False)"
   ]
  },
  {
   "cell_type": "markdown",
   "metadata": {},
   "source": [
    "Now, we will filter for high correlation values. To achieve this, we first need to create a DataFrame containing the correlation matrix."
   ]
  },
  {
   "cell_type": "code",
   "execution_count": null,
   "metadata": {},
   "outputs": [],
   "source": [
    "# Create the correlation matrix\n",
    "corr_matrix = df_filtered_noangle.corr()\n",
    "\n",
    "# Find correlations of other columns with 'target' where the absolute value of correlation is greater than 0.9\n",
    "high_corr_with_target = corr_matrix['target'].abs().where(lambda x: abs(x) > 0.2).dropna()\n",
    "\n",
    "print(high_corr_with_target)"
   ]
  },
  {
   "cell_type": "markdown",
   "metadata": {},
   "source": [
    "The columns 'target_min', 'target_max', and 'target' will be excluded when training the models later. Despite this, some significant correlations remain evident."
   ]
  },
  {
   "cell_type": "markdown",
   "metadata": {},
   "source": [
    "## Preprocess the Data"
   ]
  },
  {
   "cell_type": "code",
   "execution_count": 7,
   "metadata": {},
   "outputs": [],
   "source": [
    "from basic_functions_preprocessing import* "
   ]
  },
  {
   "cell_type": "code",
   "execution_count": 8,
   "metadata": {},
   "outputs": [
    {
     "name": "stdout",
     "output_type": "stream",
     "text": [
      "New dataframe shape: (17766, 73) (17766,)\n"
     ]
    }
   ],
   "source": [
    "X_train, y_train = preprocessing_df(X_train, y_train)"
   ]
  },
  {
   "cell_type": "code",
   "execution_count": 9,
   "metadata": {},
   "outputs": [
    {
     "name": "stdout",
     "output_type": "stream",
     "text": [
      "New dataframe shape: (7595, 73) (7595,)\n"
     ]
    }
   ],
   "source": [
    "X_test, y_test = preprocessing_df(X_test, y_test)"
   ]
  },
  {
   "cell_type": "markdown",
   "metadata": {},
   "source": [
    "### Drop all unique columns in the train DataFrame other than 'target'"
   ]
  },
  {
   "cell_type": "code",
   "execution_count": null,
   "metadata": {},
   "outputs": [],
   "source": [
    "# Drop all unique columns other than 'target'\n",
    "df_train.drop(['target_min', 'target_max', 'target_count', 'target_variance'], axis=1, inplace=True)\n",
    "\n",
    "df_train.shape"
   ]
  },
  {
   "cell_type": "markdown",
   "metadata": {},
   "source": [
    "The train DataFrame now includes only one additional column compared to the test DataFrame, namely the 'target' column."
   ]
  },
  {
   "cell_type": "markdown",
   "metadata": {},
   "source": [
    "### Convert all column names in the train and test DataFrames to lowercase and replace spaces with underscores:"
   ]
  },
  {
   "cell_type": "code",
   "execution_count": null,
   "metadata": {},
   "outputs": [],
   "source": [
    "# Transform all column headers of the DataFrames into lower case and replace all spaces by underscores\n",
    "df_train.columns = df_train.columns.str.lower().str.replace(' ', '_')\n",
    "\n",
    "df_train.head()"
   ]
  },
  {
   "cell_type": "markdown",
   "metadata": {},
   "source": [
    "### Convert the 'date' column to datetime"
   ]
  },
  {
   "cell_type": "code",
   "execution_count": null,
   "metadata": {},
   "outputs": [],
   "source": [
    "# change \"date\" dtype to datetime with format %Y/%m/%d\n",
    "df_train['date'] = pd.to_datetime(df_train['date'], format='%Y-%m-%d')\n",
    "\n",
    "df_train['month'] = df_train['date'].dt.month\n",
    "df_train['day'] = df_train['date'].dt.day\n",
    "df_train['day_of_week'] = df_train['date'].dt.dayofweek\n",
    "\n",
    "df_train.head()\n",
    "df_train.info()"
   ]
  },
  {
   "cell_type": "markdown",
   "metadata": {},
   "source": [
    "### Missing Values\n",
    "Drop all columns with the word 'CH4' in the header."
   ]
  },
  {
   "cell_type": "markdown",
   "metadata": {},
   "source": [
    "### 0-Values\n",
    "\n",
    "Drop rows in which the following features contain 0-values:\n",
    "\n",
    "L3_NO2_NO2_column_number_density                       \n",
    "L3_NO2_NO2_slant_column_number_density                 \n",
    "L3_NO2_absorbing_aerosol_index                        \n",
    "L3_NO2_sensor_altitude                                 \n",
    "L3_NO2_stratospheric_NO2_column_number_density         \n",
    "L3_NO2_tropopause_pressure                            \n",
    "L3_NO2_tropospheric_NO2_column_number_density          \n",
    "L3_O3_O3_column_number_density                         \n",
    "L3_O3_O3_effective_temperature                          \n",
    "L3_CO_CO_column_number_density                          \n",
    "L3_CO_H2O_column_number_density                         \n",
    "L3_CO_cloud_height                                      \n",
    "L3_CO_sensor_altitude                                   \n",
    "L3_HCHO_HCHO_slant_column_number_density                \n",
    "L3_HCHO_tropospheric_HCHO_column_number_density         \n",
    "L3_HCHO_tropospheric_HCHO_column_number_density_amf     \n",
    "L3_SO2_SO2_column_number_density                        \n",
    "L3_SO2_SO2_column_number_density_amf                    \n",
    "L3_SO2_SO2_slant_column_number_density                  \n",
    "L3_SO2_absorbing_aerosol_index                          \n",
    "L3_CH4_CH4_column_volume_mixing_ratio_dry_air          \n",
    "L3_CH4_aerosol_height                                  \n",
    "L3_CH4_aerosol_optical_depth                           "
   ]
  },
  {
   "cell_type": "markdown",
   "metadata": {},
   "source": [
    "### Normalize/Standartizise the Data"
   ]
  },
  {
   "cell_type": "markdown",
   "metadata": {},
   "source": []
  },
  {
   "cell_type": "code",
   "execution_count": null,
   "metadata": {},
   "outputs": [],
   "source": []
  }
 ],
 "metadata": {
  "kernelspec": {
   "display_name": ".venv",
   "language": "python",
   "name": "python3"
  },
  "language_info": {
   "codemirror_mode": {
    "name": "ipython",
    "version": 3
   },
   "file_extension": ".py",
   "mimetype": "text/x-python",
   "name": "python",
   "nbconvert_exporter": "python",
   "pygments_lexer": "ipython3",
   "version": "3.11.3"
  }
 },
 "nbformat": 4,
 "nbformat_minor": 2
}
